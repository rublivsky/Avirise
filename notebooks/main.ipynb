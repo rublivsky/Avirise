{
 "cells": [
  {
   "cell_type": "code",
   "execution_count": 14,
   "metadata": {},
   "outputs": [
    {
     "data": {
      "application/vnd.microsoft.datawrangler.viewer.v0+json": {
       "columns": [
        {
         "name": "index",
         "rawType": "int64",
         "type": "integer"
        },
        {
         "name": "Етап",
         "rawType": "object",
         "type": "string"
        },
        {
         "name": "Кількість користувачів",
         "rawType": "int64",
         "type": "integer"
        }
       ],
       "conversionMethod": "pd.DataFrame",
       "ref": "f90079f4-b772-4f90-95e7-7126fd00b925",
       "rows": [
        [
         "0",
         "Відкрили додаток (сплеш)",
         "46596"
        ],
        [
         "1",
         "Надали дозвіл на ATT + Push",
         "41470"
        ],
        [
         "2",
         "Перейшли на 1-й екран онбордингу",
         "38674"
        ],
        [
         "3",
         "Перейшли на 2-й екран онбордингу",
         "38208"
        ],
        [
         "4",
         "Перейшли на 3-й екран онбордингу",
         "33083"
        ],
        [
         "5",
         "Побачили пейвол",
         "32617"
        ],
        [
         "6",
         "Пройшли на головний екран",
         "21434"
        ]
       ],
       "shape": {
        "columns": 2,
        "rows": 7
       }
      },
      "text/html": [
       "<div>\n",
       "<style scoped>\n",
       "    .dataframe tbody tr th:only-of-type {\n",
       "        vertical-align: middle;\n",
       "    }\n",
       "\n",
       "    .dataframe tbody tr th {\n",
       "        vertical-align: top;\n",
       "    }\n",
       "\n",
       "    .dataframe thead th {\n",
       "        text-align: right;\n",
       "    }\n",
       "</style>\n",
       "<table border=\"1\" class=\"dataframe\">\n",
       "  <thead>\n",
       "    <tr style=\"text-align: right;\">\n",
       "      <th></th>\n",
       "      <th>Етап</th>\n",
       "      <th>Кількість користувачів</th>\n",
       "    </tr>\n",
       "  </thead>\n",
       "  <tbody>\n",
       "    <tr>\n",
       "      <th>0</th>\n",
       "      <td>Відкрили додаток (сплеш)</td>\n",
       "      <td>46596</td>\n",
       "    </tr>\n",
       "    <tr>\n",
       "      <th>1</th>\n",
       "      <td>Надали дозвіл на ATT + Push</td>\n",
       "      <td>41470</td>\n",
       "    </tr>\n",
       "    <tr>\n",
       "      <th>2</th>\n",
       "      <td>Перейшли на 1-й екран онбордингу</td>\n",
       "      <td>38674</td>\n",
       "    </tr>\n",
       "    <tr>\n",
       "      <th>3</th>\n",
       "      <td>Перейшли на 2-й екран онбордингу</td>\n",
       "      <td>38208</td>\n",
       "    </tr>\n",
       "    <tr>\n",
       "      <th>4</th>\n",
       "      <td>Перейшли на 3-й екран онбордингу</td>\n",
       "      <td>33083</td>\n",
       "    </tr>\n",
       "    <tr>\n",
       "      <th>5</th>\n",
       "      <td>Побачили пейвол</td>\n",
       "      <td>32617</td>\n",
       "    </tr>\n",
       "    <tr>\n",
       "      <th>6</th>\n",
       "      <td>Пройшли на головний екран</td>\n",
       "      <td>21434</td>\n",
       "    </tr>\n",
       "  </tbody>\n",
       "</table>\n",
       "</div>"
      ],
      "text/plain": [
       "                               Етап  Кількість користувачів\n",
       "0          Відкрили додаток (сплеш)                   46596\n",
       "1       Надали дозвіл на ATT + Push                   41470\n",
       "2  Перейшли на 1-й екран онбордингу                   38674\n",
       "3  Перейшли на 2-й екран онбордингу                   38208\n",
       "4  Перейшли на 3-й екран онбордингу                   33083\n",
       "5                   Побачили пейвол                   32617\n",
       "6         Пройшли на головний екран                   21434"
      ]
     },
     "execution_count": 14,
     "metadata": {},
     "output_type": "execute_result"
    }
   ],
   "source": [
    "import pandas as pd\n",
    "import matplotlib.pyplot as plt\n",
    "\n",
    "data = {\n",
    "    \"Етап\": [\n",
    "        \"Відкрили додаток (сплеш)\",\n",
    "        \"Надали дозвіл на ATT + Push\",\n",
    "        \"Перейшли на 1-й екран онбордингу\",\n",
    "        \"Перейшли на 2-й екран онбордингу\",\n",
    "        \"Перейшли на 3-й екран онбордингу\",\n",
    "        \"Побачили пейвол\",\n",
    "        \"Пройшли на головний екран\"\n",
    "    ],\n",
    "    \"Кількість користувачів\": [\n",
    "        46596, 41470, 38674, 38208, 33083, 32617, 21434\n",
    "    ]\n",
    "}\n",
    "\n",
    "df = pd.DataFrame(data)\n",
    "df\n"
   ]
  },
  {
   "cell_type": "code",
   "execution_count": 15,
   "metadata": {},
   "outputs": [
    {
     "data": {
      "application/vnd.microsoft.datawrangler.viewer.v0+json": {
       "columns": [
        {
         "name": "index",
         "rawType": "int64",
         "type": "integer"
        },
        {
         "name": "Етап",
         "rawType": "object",
         "type": "string"
        },
        {
         "name": "Кількість користувачів",
         "rawType": "int64",
         "type": "integer"
        },
        {
         "name": "Конверсія",
         "rawType": "float64",
         "type": "float"
        },
        {
         "name": "Різниця конверсії",
         "rawType": "float64",
         "type": "float"
        }
       ],
       "conversionMethod": "pd.DataFrame",
       "ref": "a519ee34-6322-4e27-85f9-191162d12487",
       "rows": [
        [
         "0",
         "Відкрили додаток (сплеш)",
         "46596",
         "100.0",
         "0.0"
        ],
        [
         "1",
         "Надали дозвіл на ATT + Push",
         "41470",
         "88.99905571293674",
         "-11.000944287063263"
        ],
        [
         "2",
         "Перейшли на 1-й екран онбордингу",
         "38674",
         "82.99854064726586",
         "-6.000515065670882"
        ],
        [
         "3",
         "Перейшли на 2-й екран онбордингу",
         "38208",
         "81.99845480298738",
         "-1.0000858442784732"
        ],
        [
         "4",
         "Перейшли на 3-й екран онбордингу",
         "33083",
         "70.99965662288609",
         "-10.99879818010129"
        ],
        [
         "5",
         "Побачили пейвол",
         "32617",
         "69.9995707786076",
         "-1.0000858442784875"
        ],
        [
         "6",
         "Пройшли на головний екран",
         "21434",
         "45.999656622886086",
         "-23.99991415572152"
        ]
       ],
       "shape": {
        "columns": 4,
        "rows": 7
       }
      },
      "text/html": [
       "<div>\n",
       "<style scoped>\n",
       "    .dataframe tbody tr th:only-of-type {\n",
       "        vertical-align: middle;\n",
       "    }\n",
       "\n",
       "    .dataframe tbody tr th {\n",
       "        vertical-align: top;\n",
       "    }\n",
       "\n",
       "    .dataframe thead th {\n",
       "        text-align: right;\n",
       "    }\n",
       "</style>\n",
       "<table border=\"1\" class=\"dataframe\">\n",
       "  <thead>\n",
       "    <tr style=\"text-align: right;\">\n",
       "      <th></th>\n",
       "      <th>Етап</th>\n",
       "      <th>Кількість користувачів</th>\n",
       "      <th>Конверсія</th>\n",
       "      <th>Різниця конверсії</th>\n",
       "    </tr>\n",
       "  </thead>\n",
       "  <tbody>\n",
       "    <tr>\n",
       "      <th>0</th>\n",
       "      <td>Відкрили додаток (сплеш)</td>\n",
       "      <td>46596</td>\n",
       "      <td>100.000000</td>\n",
       "      <td>0.000000</td>\n",
       "    </tr>\n",
       "    <tr>\n",
       "      <th>1</th>\n",
       "      <td>Надали дозвіл на ATT + Push</td>\n",
       "      <td>41470</td>\n",
       "      <td>88.999056</td>\n",
       "      <td>-11.000944</td>\n",
       "    </tr>\n",
       "    <tr>\n",
       "      <th>2</th>\n",
       "      <td>Перейшли на 1-й екран онбордингу</td>\n",
       "      <td>38674</td>\n",
       "      <td>82.998541</td>\n",
       "      <td>-6.000515</td>\n",
       "    </tr>\n",
       "    <tr>\n",
       "      <th>3</th>\n",
       "      <td>Перейшли на 2-й екран онбордингу</td>\n",
       "      <td>38208</td>\n",
       "      <td>81.998455</td>\n",
       "      <td>-1.000086</td>\n",
       "    </tr>\n",
       "    <tr>\n",
       "      <th>4</th>\n",
       "      <td>Перейшли на 3-й екран онбордингу</td>\n",
       "      <td>33083</td>\n",
       "      <td>70.999657</td>\n",
       "      <td>-10.998798</td>\n",
       "    </tr>\n",
       "    <tr>\n",
       "      <th>5</th>\n",
       "      <td>Побачили пейвол</td>\n",
       "      <td>32617</td>\n",
       "      <td>69.999571</td>\n",
       "      <td>-1.000086</td>\n",
       "    </tr>\n",
       "    <tr>\n",
       "      <th>6</th>\n",
       "      <td>Пройшли на головний екран</td>\n",
       "      <td>21434</td>\n",
       "      <td>45.999657</td>\n",
       "      <td>-23.999914</td>\n",
       "    </tr>\n",
       "  </tbody>\n",
       "</table>\n",
       "</div>"
      ],
      "text/plain": [
       "                               Етап  Кількість користувачів   Конверсія  \\\n",
       "0          Відкрили додаток (сплеш)                   46596  100.000000   \n",
       "1       Надали дозвіл на ATT + Push                   41470   88.999056   \n",
       "2  Перейшли на 1-й екран онбордингу                   38674   82.998541   \n",
       "3  Перейшли на 2-й екран онбордингу                   38208   81.998455   \n",
       "4  Перейшли на 3-й екран онбордингу                   33083   70.999657   \n",
       "5                   Побачили пейвол                   32617   69.999571   \n",
       "6         Пройшли на головний екран                   21434   45.999657   \n",
       "\n",
       "   Різниця конверсії  \n",
       "0           0.000000  \n",
       "1         -11.000944  \n",
       "2          -6.000515  \n",
       "3          -1.000086  \n",
       "4         -10.998798  \n",
       "5          -1.000086  \n",
       "6         -23.999914  "
      ]
     },
     "execution_count": 15,
     "metadata": {},
     "output_type": "execute_result"
    }
   ],
   "source": [
    "df['Конверсія'] = (df['Кількість користувачів'] / df['Кількість користувачів'].iloc[0]) * 100\n",
    "df['Різниця конверсії'] = df['Конверсія'].diff().fillna(0)\n",
    "df.to_csv('/home/redmoon/Documents/Dev/Avirise/data/data.csv', index=False)\n",
    "df"
   ]
  },
  {
   "cell_type": "code",
   "execution_count": 12,
   "metadata": {},
   "outputs": [
    {
     "data": {
      "image/png": "[encoded data removed]",
      "text/plain": [
       "<Figure size 1000x600 with 1 Axes>"
      ]
     },
     "metadata": {},
     "output_type": "display_data"
    }
   ],
   "source": [
    "plt.figure(figsize=(10, 6))\n",
    "plt.bar(df['Етап'], df['Конверсія'], color='skyblue')\n",
    "plt.xlabel('Етап', fontsize=12)\n",
    "plt.ylabel('Конверсия (%)', fontsize=12)\n",
    "plt.title('Воронка конверсії', fontsize=14)\n",
    "plt.xticks(rotation=45, ha='right')\n",
    "plt.tight_layout()\n",
    "plt.show()"
   ]
  },
  {
   "cell_type": "markdown",
   "metadata": {},
   "source": [
    "1.2 Найбільше зниження конверсії спостерігається після пейволу\n",
    "\n",
    "2. Виявлення проблемних місць\n",
    "- Є кілька факторів, які можуть впливати на користувацький досвід — від технічних проблем, таких як повільне завантаження, до більш емоційних, як настрій користувачів. Однак, одразу кидається в очі великий банер про АТТ — він може бути надто агресивним і відлякувати до 11% користувачів, тому його варто зменшити. Також варто подумати про локалізацію контенту: залежно від мови користувача, на першому екрані онбордингу можна відображати його приблизну локацію для персоналізованого досвіду. Інформація про real-time оновлення виглядає зайвою, адже це має бути стандартом для будь-якого застосунку. Третій екран онбордингу я б перемістив після основного налаштування, аби не перевантажувати користувача на старті. Що стосується екрана пейволу, на мою думку, такі моменти краще показувати через кілька хвилин після першого знайомства з продуктом — це дозволить користувачеві спершу оцінити цінність застосунку, а не відлякатися відразу через ціну.\n",
    "3. Формування гіпотез\n",
    "- Зменшити агресивність пейволу, наприклад, показувати його після ознайомлення з основними функціями застосунку\n",
    "- Оптимізувати текст і дизайн запиту на дозвіл ATT + Push, зробивши його більш дружнім і зрозумілим для користувача, а також пояснити переваги надання дозволу.\n",
    "- Додати персоналізацію на етапах онбордингу, наприклад, показувати контент, що відповідає інтересам або локації користувача, щоб підвищити залученість. Зменшити кількість тексту на екрані пейволу, зайву інформацію прибрати до Terms of Use"
   ]
  },
  {
   "cell_type": "code",
   "execution_count": 18,
   "metadata": {},
   "outputs": [
    {
     "data": {
      "application/vnd.microsoft.datawrangler.viewer.v0+json": {
       "columns": [
        {
         "name": "index",
         "rawType": "int64",
         "type": "integer"
        },
        {
         "name": "Cohort",
         "rawType": "object",
         "type": "string"
        },
        {
         "name": "Subs on start",
         "rawType": "int64",
         "type": "integer"
        },
        {
         "name": "W2",
         "rawType": "int64",
         "type": "integer"
        },
        {
         "name": "W3",
         "rawType": "int64",
         "type": "integer"
        },
        {
         "name": "W4",
         "rawType": "float64",
         "type": "float"
        },
        {
         "name": "W5",
         "rawType": "float64",
         "type": "float"
        },
        {
         "name": "W6",
         "rawType": "float64",
         "type": "float"
        },
        {
         "name": "W7",
         "rawType": "float64",
         "type": "float"
        }
       ],
       "conversionMethod": "pd.DataFrame",
       "ref": "697b4a99-a393-424a-8cf4-eb03ae4d1a8f",
       "rows": [
        [
         "0",
         "19 Apr",
         "53",
         "34",
         "28",
         "24.0",
         "20.0",
         "17.0",
         "15.0"
        ],
        [
         "1",
         "24 Apr",
         "65",
         "42",
         "32",
         "26.0",
         "21.0",
         "18.0",
         null
        ],
        [
         "2",
         "1 May",
         "50",
         "35",
         "28",
         "24.0",
         "21.0",
         null,
         null
        ],
        [
         "3",
         "8 May",
         "53",
         "37",
         "29",
         "25.0",
         null,
         null,
         null
        ],
        [
         "4",
         "15 May",
         "61",
         "41",
         "32",
         null,
         null,
         null,
         null
        ]
       ],
       "shape": {
        "columns": 8,
        "rows": 5
       }
      },
      "text/html": [
       "<div>\n",
       "<style scoped>\n",
       "    .dataframe tbody tr th:only-of-type {\n",
       "        vertical-align: middle;\n",
       "    }\n",
       "\n",
       "    .dataframe tbody tr th {\n",
       "        vertical-align: top;\n",
       "    }\n",
       "\n",
       "    .dataframe thead th {\n",
       "        text-align: right;\n",
       "    }\n",
       "</style>\n",
       "<table border=\"1\" class=\"dataframe\">\n",
       "  <thead>\n",
       "    <tr style=\"text-align: right;\">\n",
       "      <th></th>\n",
       "      <th>Cohort</th>\n",
       "      <th>Subs on start</th>\n",
       "      <th>W2</th>\n",
       "      <th>W3</th>\n",
       "      <th>W4</th>\n",
       "      <th>W5</th>\n",
       "      <th>W6</th>\n",
       "      <th>W7</th>\n",
       "    </tr>\n",
       "  </thead>\n",
       "  <tbody>\n",
       "    <tr>\n",
       "      <th>0</th>\n",
       "      <td>19 Apr</td>\n",
       "      <td>53</td>\n",
       "      <td>34</td>\n",
       "      <td>28</td>\n",
       "      <td>24.0</td>\n",
       "      <td>20.0</td>\n",
       "      <td>17.0</td>\n",
       "      <td>15.0</td>\n",
       "    </tr>\n",
       "    <tr>\n",
       "      <th>1</th>\n",
       "      <td>24 Apr</td>\n",
       "      <td>65</td>\n",
       "      <td>42</td>\n",
       "      <td>32</td>\n",
       "      <td>26.0</td>\n",
       "      <td>21.0</td>\n",
       "      <td>18.0</td>\n",
       "      <td>NaN</td>\n",
       "    </tr>\n",
       "    <tr>\n",
       "      <th>2</th>\n",
       "      <td>1 May</td>\n",
       "      <td>50</td>\n",
       "      <td>35</td>\n",
       "      <td>28</td>\n",
       "      <td>24.0</td>\n",
       "      <td>21.0</td>\n",
       "      <td>NaN</td>\n",
       "      <td>NaN</td>\n",
       "    </tr>\n",
       "    <tr>\n",
       "      <th>3</th>\n",
       "      <td>8 May</td>\n",
       "      <td>53</td>\n",
       "      <td>37</td>\n",
       "      <td>29</td>\n",
       "      <td>25.0</td>\n",
       "      <td>NaN</td>\n",
       "      <td>NaN</td>\n",
       "      <td>NaN</td>\n",
       "    </tr>\n",
       "    <tr>\n",
       "      <th>4</th>\n",
       "      <td>15 May</td>\n",
       "      <td>61</td>\n",
       "      <td>41</td>\n",
       "      <td>32</td>\n",
       "      <td>NaN</td>\n",
       "      <td>NaN</td>\n",
       "      <td>NaN</td>\n",
       "      <td>NaN</td>\n",
       "    </tr>\n",
       "  </tbody>\n",
       "</table>\n",
       "</div>"
      ],
      "text/plain": [
       "   Cohort  Subs on start  W2  W3    W4    W5    W6    W7\n",
       "0  19 Apr             53  34  28  24.0  20.0  17.0  15.0\n",
       "1  24 Apr             65  42  32  26.0  21.0  18.0   NaN\n",
       "2   1 May             50  35  28  24.0  21.0   NaN   NaN\n",
       "3   8 May             53  37  29  25.0   NaN   NaN   NaN\n",
       "4  15 May             61  41  32   NaN   NaN   NaN   NaN"
      ]
     },
     "execution_count": 18,
     "metadata": {},
     "output_type": "execute_result"
    }
   ],
   "source": [
    "# Data for the cohorts\n",
    "data_cohort = {\n",
    "    \"Cohort\": [\"19 Apr\", \"24 Apr\", \"1 May\", \"8 May\", \"15 May\"],\n",
    "    \"Subs on start\": [53, 65, 50, 53, 61],\n",
    "    \"W2\": [34, 42, 35, 37, 41],\n",
    "    \"W3\": [28, 32, 28, 29, 32],\n",
    "    \"W4\": [24, 26, 24, 25, None],\n",
    "    \"W5\": [20, 21, 21, None, None],\n",
    "    \"W6\": [17, 18, None, None, None],\n",
    "    \"W7\": [15, None, None, None, None]\n",
    "}\n",
    "\n",
    "# Creating a DataFrame\n",
    "df_cohort = pd.DataFrame(data_cohort)\n",
    "\n",
    "df_cohort\n"
   ]
  }
 ],
 "metadata": {
  "kernelspec": {
   "display_name": "avirise",
   "language": "python",
   "name": "python3"
  },
  "language_info": {
   "codemirror_mode": {
    "name": "ipython",
    "version": 3
   },
   "file_extension": ".py",
   "mimetype": "text/x-python",
   "name": "python",
   "nbconvert_exporter": "python",
   "pygments_lexer": "ipython3",
   "version": "3.13.2"
  }
 },
 "nbformat": 4,
 "nbformat_minor": 2
}
